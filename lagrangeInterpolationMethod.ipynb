{
 "cells": [
  {
   "cell_type": "code",
   "execution_count": 2,
   "metadata": {},
   "outputs": [
    {
     "name": "stdout",
     "output_type": "stream",
     "text": [
      "Interpolated value at x = 1.5 is 2.875\n"
     ]
    }
   ],
   "source": [
    "import numpy as np\n",
    "\n",
    "def lagrange_interpolation(x_data, y_data, x_interp):\n",
    "    n = len(x_data)\n",
    "    L = 0\n",
    "    for i in range(n):\n",
    "        P = 1\n",
    "        for j in range(n):\n",
    "            if i != j:\n",
    "                P *= (x_interp - x_data[j]) / (x_data[i] - x_data[j])\n",
    "        L += y_data[i] * P\n",
    "    return L\n",
    "\n",
    "# Example usage\n",
    "x_data = np.array([0, 1, 2])\n",
    "y_data = np.array([1, 3, 2])\n",
    "x_interp = 1.5 # Point at which to interpolate\n",
    "\n",
    "print(\"Interpolated value at x =\", x_interp, \"is\", lagrange_interpolation(x_data, y_data, x_interp))\n"
   ]
  }
 ],
 "metadata": {
  "kernelspec": {
   "display_name": "Python 3",
   "language": "python",
   "name": "python3"
  },
  "language_info": {
   "codemirror_mode": {
    "name": "ipython",
    "version": 3
   },
   "file_extension": ".py",
   "mimetype": "text/x-python",
   "name": "python",
   "nbconvert_exporter": "python",
   "pygments_lexer": "ipython3",
   "version": "3.11.9"
  }
 },
 "nbformat": 4,
 "nbformat_minor": 2
}
