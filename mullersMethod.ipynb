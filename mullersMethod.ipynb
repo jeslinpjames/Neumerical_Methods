{
 "cells": [
  {
   "cell_type": "code",
   "execution_count": 45,
   "metadata": {},
   "outputs": [
    {
     "name": "stdout",
     "output_type": "stream",
     "text": [
      "4.5 5.5 5 0\n",
      "Iteration =  0\n",
      "X 3 =  4.4396172482454395\n",
      "Iteration =  1\n",
      "X 3 =  4.1712386765707095\n",
      "Iteration =  2\n",
      "X 3 =  4.039158482782366\n",
      "Iteration =  3\n",
      "X 3 =  4.004149726686719\n",
      "Iteration =  4\n",
      "X 3 =  4.0001093462084905\n",
      "Iteration =  5\n",
      "X 3 =  4.000000310856054\n",
      "Iteration =  6\n",
      "X 3 =  4.00000000002331\n",
      "root =  4.00000000002331\n",
      "4.00000000002331\n"
     ]
    }
   ],
   "source": [
    "import math\n",
    "def function(x):\n",
    "    return x**3 - 13*x - 12\n",
    "\n",
    "def mullersMethod(error=0.0001):\n",
    "    j = 0\n",
    "    while(function(j)*function(j+1)>0):\n",
    "        j+=1\n",
    "    x_0 = j\n",
    "    x_1 = j + 1\n",
    "    x_2 = (x_0 + x_1) / 2\n",
    "    x_3 = 0\n",
    "    # x_0,x_1,x_2 = 4.5,5.5,5\n",
    "    print(x_0,x_1,x_2,x_3)\n",
    "    Ea=float('inf')\n",
    "    iter = 0\n",
    "    while Ea >= error:\n",
    "        f_x0 = function(x_0)\n",
    "        f_x1 = function(x_1)\n",
    "        f_x2 = function(x_2)\n",
    "        h0 = x_1 - x_0\n",
    "        h1 = x_2 - x_1\n",
    "        del_0 = (f_x1 - f_x0) / h0 \n",
    "        del_1 = (f_x2 - f_x1) / h1\n",
    "        a = (del_0 - del_1)/(h1+h0)\n",
    "        b = a*h1 + del_1 \n",
    "        c = f_x2\n",
    "        D = math.sqrt(b**2 - (4*a*c))\n",
    "        if ((b+D)>(b-D)):\n",
    "            x_3 = x_2 - 2*c/(b+D)\n",
    "        else:\n",
    "            x_3 = x_2 - 2*c/(b+D)\n",
    "        Ea = abs((x_3 - x_2)/x_3)*100\n",
    "        x_0, x_1, x_2 = x_1, x_2, x_3\n",
    "        print(\"Iteration = \",iter)\n",
    "        print(\"X 3 = \",x_3)\n",
    "        iter+=1\n",
    "    print(\"root = \",x_3)\n",
    "    return(x_3)\n",
    "\n",
    "c = mullersMethod(0.0001)\n",
    "print(c)"
   ]
  }
 ],
 "metadata": {
  "kernelspec": {
   "display_name": "Python 3",
   "language": "python",
   "name": "python3"
  },
  "language_info": {
   "codemirror_mode": {
    "name": "ipython",
    "version": 3
   },
   "file_extension": ".py",
   "mimetype": "text/x-python",
   "name": "python",
   "nbconvert_exporter": "python",
   "pygments_lexer": "ipython3",
   "version": "3.11.9"
  }
 },
 "nbformat": 4,
 "nbformat_minor": 2
}
