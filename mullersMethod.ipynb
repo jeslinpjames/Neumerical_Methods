{
 "cells": [
  {
   "cell_type": "code",
   "execution_count": null,
   "metadata": {},
   "outputs": [],
   "source": [
    "import random\n",
    "import math\n",
    "def function(x):\n",
    "    return x**3 - 13*x - 12\n",
    "\n",
    "def mullersMethod():\n",
    "    x_0 = 4.5\n",
    "    x_1 = 5.5\n",
    "    x_2 = 5\n",
    "    f_x0 = function(x_0)\n",
    "    f_x1 = function(x_1)\n",
    "    f_x2 = function(x_2)\n",
    "    h0 = x_1 - x_0\n",
    "    h1 = x_2 - x_1\n",
    "    del_0 = (f_x1 - f_x2) / h0 \n",
    "    del_1 = (f_x2 - f_x1) / h1\n",
    "    a = (del_0 - del_1)/(h1+h2)\n",
    "    b = a*h1 + del_1 \n",
    "    c = f_x2\n",
    "    D = math.sqrt(b**2 - (4*a*c))\n",
    "    if ((b+D)>(b-D)):\n",
    "        x_3 = x_2 - 2*c/(b+D)\n",
    "    else:\n",
    "        x_3 = x_2 - 2*c/(b+D)\n",
    "    Ea = math.abs((x_3 - x_2)/x_3)*100\n",
    "\n"
   ]
  }
 ],
 "metadata": {
  "language_info": {
   "name": "python"
  }
 },
 "nbformat": 4,
 "nbformat_minor": 2
}
