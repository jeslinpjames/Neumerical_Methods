{
 "cells": [
  {
   "cell_type": "code",
   "execution_count": 18,
   "metadata": {},
   "outputs": [
    {
     "name": "stdout",
     "output_type": "stream",
     "text": [
      "root =  4.00000000002331\n",
      "4.00000000002331\n"
     ]
    }
   ],
   "source": [
    "import random\n",
    "import math\n",
    "def function(x):\n",
    "    return x**3 - 13*x - 12\n",
    "\n",
    "def mullersMethod():\n",
    "    x_0 = 4.5\n",
    "    x_1 = 5.5\n",
    "    x_2 = 5\n",
    "    x_3 = 0\n",
    "    Ea=float('inf')\n",
    "    while Ea >= 0.001:\n",
    "        f_x0 = function(x_0)\n",
    "        f_x1 = function(x_1)\n",
    "        f_x2 = function(x_2)\n",
    "        h0 = x_1 - x_0\n",
    "        h1 = x_2 - x_1\n",
    "        del_0 = (f_x1 - f_x0) / h0 \n",
    "        del_1 = (f_x2 - f_x1) / h1\n",
    "        a = (del_0 - del_1)/(h1+h0)\n",
    "        b = a*h1 + del_1 \n",
    "        c = f_x2\n",
    "        D = math.sqrt(b**2 - (4*a*c))\n",
    "        if ((b+D)>(b-D)):\n",
    "            x_3 = x_2 - 2*c/(b+D)\n",
    "        else:\n",
    "            x_3 = x_2 - 2*c/(b+D)\n",
    "        Ea = abs((x_3 - x_2)/x_3)*100\n",
    "        x_0, x_1, x_2 = x_1, x_2, x_3\n",
    "    print(\"root = \",x_3)\n",
    "    return(x_3)\n",
    "\n",
    "c = mullersMethod()\n",
    "print(c)"
   ]
  }
 ],
 "metadata": {
  "kernelspec": {
   "display_name": "Python 3",
   "language": "python",
   "name": "python3"
  },
  "language_info": {
   "codemirror_mode": {
    "name": "ipython",
    "version": 3
   },
   "file_extension": ".py",
   "mimetype": "text/x-python",
   "name": "python",
   "nbconvert_exporter": "python",
   "pygments_lexer": "ipython3",
   "version": "3.11.7"
  }
 },
 "nbformat": 4,
 "nbformat_minor": 2
}
