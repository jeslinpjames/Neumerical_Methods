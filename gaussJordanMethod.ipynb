{
 "cells": [
  {
   "cell_type": "code",
   "execution_count": 1,
   "metadata": {},
   "outputs": [],
   "source": [
    "def gauss_jordan(A, b):\n",
    "    # Gauss-Jordan Method\n",
    "    n = len(A)\n",
    "    M = A\n",
    "\n",
    "    # Append b to M\n",
    "    for i in range(n):\n",
    "        M[i].append(b[i])\n",
    "\n",
    "    # Transform M to reduced row-echelon form\n",
    "    for k in range(n):\n",
    "        # Find pivot\n",
    "        for i in range(k, n):\n",
    "            if abs(M[i][k]) > abs(M[k][k]):\n",
    "                M[k], M[i] = M[i], M[k]\n",
    "            else:\n",
    "                pass\n",
    "\n",
    "        # Eliminate other elements in the column\n",
    "        for j in range(k+1, n):\n",
    "            q = M[j][k] / M[k][k]\n",
    "            for m in range(k, n+1):\n",
    "                M[j][m] -= q * M[k][m]\n",
    "\n",
    "    # Back-substitute to find solution\n",
    "    x = [0 for _ in range(n)]\n",
    "    x[n-1] = M[n-1][n] / M[n-1][n-1]\n",
    "    for i in range(n-1, -1, -1):\n",
    "        z = 0\n",
    "        for j in range(i+1, n):\n",
    "            z += M[i][j] * x[j]\n",
    "        x[i] = (M[i][n] - z) / M[i][i]\n",
    "\n",
    "    return x\n"
   ]
  },
  {
   "cell_type": "code",
   "execution_count": 2,
   "metadata": {},
   "outputs": [
    {
     "name": "stdout",
     "output_type": "stream",
     "text": [
      "[6.0, -1.0, -2.0]\n"
     ]
    }
   ],
   "source": [
    "\n",
    "# Example usage\n",
    "A = [[1, 1, -1], [1, -1, 2], [2, 1, 1]]\n",
    "b = [7, 3, 9]\n",
    "print(gauss_jordan(A, b)) # Output: [6.0, -1.0, -2.0]"
   ]
  }
 ],
 "metadata": {
  "kernelspec": {
   "display_name": "Python 3",
   "language": "python",
   "name": "python3"
  },
  "language_info": {
   "codemirror_mode": {
    "name": "ipython",
    "version": 3
   },
   "file_extension": ".py",
   "mimetype": "text/x-python",
   "name": "python",
   "nbconvert_exporter": "python",
   "pygments_lexer": "ipython3",
   "version": "3.11.9"
  }
 },
 "nbformat": 4,
 "nbformat_minor": 2
}
