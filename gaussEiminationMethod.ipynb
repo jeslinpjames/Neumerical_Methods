{
 "cells": [
  {
   "cell_type": "code",
   "execution_count": 5,
   "metadata": {},
   "outputs": [
    {
     "name": "stdout",
     "output_type": "stream",
     "text": [
      "Solution: [ 5.  1. -6.]\n"
     ]
    }
   ],
   "source": [
    "import numpy as np\n",
    "\n",
    "def swap_rows(matrix, i, j):\n",
    "    matrix[[i, j]] = matrix[[j, i]]\n",
    "\n",
    "def scale_row(matrix, i, scalar):\n",
    "    matrix[i] *= scalar\n",
    "\n",
    "def add_rows(matrix, i, j, factor):\n",
    "    matrix[i] += factor * matrix[j]\n",
    "\n",
    "def gauss_elimination(A, b):\n",
    "    n = len(A)\n",
    "    for i in range(n):\n",
    "        max_val = abs(A[i][i])\n",
    "        max_row = i\n",
    "        for k in range(i +  1, n):\n",
    "            if abs(A[k][i]) > max_val:\n",
    "                max_val = abs(A[k][i])\n",
    "                max_row = k\n",
    "\n",
    "        swap_rows(A, i, max_row)\n",
    "        swap_rows(b, i, max_row)\n",
    "\n",
    "        for k in range(i +  1, n):\n",
    "            factor = A[k][i] / A[i][i]\n",
    "            add_rows(A, k, i, -factor)\n",
    "            b[k] = b[k] - factor * b[i]\n",
    "\n",
    "    x = np.zeros(n)\n",
    "    for i in range(n -  1, -1, -1):\n",
    "        x[i] = b[i] / A[i][i]\n",
    "        for k in range(i -  1, -1, -1):\n",
    "            b[k] -= A[k][i] * x[i]\n",
    "\n",
    "    return x\n",
    "\n",
    "\n",
    "# A = np.array([[1,  -1, 1], [-6,  1,  -1], [3,  1,  1]], dtype=float)\n",
    "# b = np.array([2,  3,  4], dtype=float)\n",
    "\n",
    "# A = np.array([[10,  1, 1], [1,  10,  -1], [1,  -2,  10]], dtype=float)\n",
    "# b = np.array([12, 10,  9], dtype=float)\n",
    "\n",
    "\n",
    "A = np.array([[2,  2, 1], [4,  2,  3], [1,  1,  1]], dtype=float)\n",
    "b = np.array([6,  4,  0], dtype=float)\n",
    "\n",
    "x = gauss_elimination(A, b)\n",
    "print(f'Solution: {x}')\n"
   ]
  }
 ],
 "metadata": {
  "kernelspec": {
   "display_name": "Python 3",
   "language": "python",
   "name": "python3"
  },
  "language_info": {
   "codemirror_mode": {
    "name": "ipython",
    "version": 3
   },
   "file_extension": ".py",
   "mimetype": "text/x-python",
   "name": "python",
   "nbconvert_exporter": "python",
   "pygments_lexer": "ipython3",
   "version": "3.11.8"
  }
 },
 "nbformat": 4,
 "nbformat_minor": 2
}
