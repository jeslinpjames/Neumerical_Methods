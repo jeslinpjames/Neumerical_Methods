{
 "cells": [
  {
   "cell_type": "code",
   "execution_count": 10,
   "metadata": {},
   "outputs": [
    {
     "name": "stdout",
     "output_type": "stream",
     "text": [
      "Iteration:  1\n",
      "a:  1\n",
      "b:  2\n",
      "c:  1.5176004105439607\n",
      "f(c):  9.698838066781887\n",
      "Iteration:  2\n",
      "a:  1\n",
      "b:  2\n",
      "c:  1.312546783715619\n",
      "f(c):  2.8006057976734278\n",
      "Iteration:  3\n",
      "a:  1\n",
      "b:  2\n",
      "c:  1.187372092586258\n",
      "f(c):  0.6149691832134212\n",
      "Iteration:  4\n",
      "a:  1\n",
      "b:  2\n",
      "c:  1.1406444797270052\n",
      "f(c):  0.06178401887916829\n",
      "Iteration:  5\n",
      "a:  1\n",
      "b:  2\n",
      "c:  1.1348076378346552\n",
      "f(c):  0.0008591845757814909\n",
      "1.1347241552520706\n"
     ]
    }
   ],
   "source": [
    "import random\n",
    "def function(x):\n",
    "    return x**6 - x - 1\n",
    "def d_f(x):\n",
    "    return 6*x**5-1\n",
    "\n",
    "def newton_raphson_method(e,itmax=200,range=2):\n",
    "    j = 0\n",
    "    c=random.uniform(0.5, range)\n",
    "    while(function(j)*function(j+1)>0):\n",
    "        j+=1\n",
    "    a = j\n",
    "    b = j + 1\n",
    "    denom =  d_f(c)\n",
    "    if denom == 0:\n",
    "        e = 2\n",
    "        return\n",
    "    prev_c = None\n",
    "    iter=0\n",
    "    while iter<=itmax:\n",
    "        prev_c = c\n",
    "        denom = d_f(prev_c)\n",
    "        if denom == 0:\n",
    "            e = 2\n",
    "            break\n",
    "        c = prev_c - (function(prev_c)/denom)\n",
    "        if abs(prev_c-c)<=e:\n",
    "            e = 0\n",
    "            break  \n",
    "        iter+=1\n",
    "        print(\"Iteration: \",iter)\n",
    "        print(\"a: \",a)\n",
    "        print(\"b: \",b)\n",
    "        print(\"c: \",c)\n",
    "        print(\"f(c): \",function(c))        \n",
    "    return c\n",
    "c=newton_raphson_method(0.0005)\n",
    "print(c)"
   ]
  }
 ],
 "metadata": {
  "kernelspec": {
   "display_name": "Python 3",
   "language": "python",
   "name": "python3"
  },
  "language_info": {
   "codemirror_mode": {
    "name": "ipython",
    "version": 3
   },
   "file_extension": ".py",
   "mimetype": "text/x-python",
   "name": "python",
   "nbconvert_exporter": "python",
   "pygments_lexer": "ipython3",
   "version": "3.11.7"
  }
 },
 "nbformat": 4,
 "nbformat_minor": 2
}
