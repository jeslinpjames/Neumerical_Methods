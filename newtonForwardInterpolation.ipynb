{
 "cells": [
  {
   "cell_type": "code",
   "execution_count": 1,
   "metadata": {},
   "outputs": [],
   "source": [
    "import math\n"
   ]
  },
  {
   "cell_type": "code",
   "execution_count": 2,
   "metadata": {},
   "outputs": [],
   "source": [
    "def ucal(u, p):\n",
    "    temp = u\n",
    "    for i in range(1, p):\n",
    "        temp = temp * (u - i)\n",
    "    return temp\n"
   ]
  },
  {
   "cell_type": "code",
   "execution_count": 3,
   "metadata": {},
   "outputs": [],
   "source": [
    "def fact(n):\n",
    "    f = 1\n",
    "    for i in range(2, n + 1):\n",
    "        f *= i\n",
    "    return f"
   ]
  },
  {
   "cell_type": "code",
   "execution_count": 4,
   "metadata": {},
   "outputs": [],
   "source": [
    "def newton_forward_interpolation(x, y, value):\n",
    "    n = len(x)\n",
    "    u = (value - x[0]) / (x[1] - x[0])\n",
    "    \n",
    "    # Calculating the forward difference table\n",
    "    for i in range(1, n):\n",
    "        for j in range(n - i):\n",
    "            y[j][i] = y[j + 1][i - 1] - y[j][i - 1]\n",
    "    \n",
    "    # Calculating the interpolated value\n",
    "    sum = y[0][0]\n",
    "    for i in range(1, n):\n",
    "        sum += (ucal(u, i) * y[0][i]) / fact(i)\n",
    "    \n",
    "    return sum\n"
   ]
  },
  {
   "cell_type": "code",
   "execution_count": 8,
   "metadata": {},
   "outputs": [
    {
     "name": "stdout",
     "output_type": "stream",
     "text": [
      "Value at 52 is 0.7880032\n"
     ]
    }
   ],
   "source": [
    "x = [45, 50, 55, 60]\n",
    "y = [[0 for _ in range(4)] for _ in range(4)]\n",
    "y[0][0] = 0.7071\n",
    "y[1][0] = 0.7660\n",
    "y[2][0] = 0.8192\n",
    "y[3][0] = 0.8660\n",
    "\n",
    "value = 52\n",
    "result = newton_forward_interpolation(x, y, value)\n",
    "print(f\"Value at {value} is {result}\")"
   ]
  }
 ],
 "metadata": {
  "kernelspec": {
   "display_name": "Python 3",
   "language": "python",
   "name": "python3"
  },
  "language_info": {
   "codemirror_mode": {
    "name": "ipython",
    "version": 3
   },
   "file_extension": ".py",
   "mimetype": "text/x-python",
   "name": "python",
   "nbconvert_exporter": "python",
   "pygments_lexer": "ipython3",
   "version": "3.11.8"
  }
 },
 "nbformat": 4,
 "nbformat_minor": 2
}
